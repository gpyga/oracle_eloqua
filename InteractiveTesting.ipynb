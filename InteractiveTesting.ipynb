{
 "cells": [
  {
   "cell_type": "code",
   "execution_count": 1,
   "metadata": {},
   "outputs": [
    {
     "data": {
      "application/javascript": [
       "IPython.notebook.set_autosave_interval(600000)"
      ]
     },
     "metadata": {},
     "output_type": "display_data"
    },
    {
     "name": "stdout",
     "output_type": "stream",
     "text": [
      "Autosaving every 600 seconds\n"
     ]
    }
   ],
   "source": [
    "%autosave 600"
   ]
  },
  {
   "cell_type": "code",
   "execution_count": 2,
   "metadata": {},
   "outputs": [],
   "source": [
    "import oracle_eloqua"
   ]
  },
  {
   "cell_type": "code",
   "execution_count": 8,
   "metadata": {},
   "outputs": [],
   "source": [
    "api = oracle_eloqua.EloquaApi.from_json('H:/work/adhoc/credentials.json', \n",
    "                                  proxies={\n",
    "                                      'http': 'wsa04proxy.int.capella.lan:80',\n",
    "                                      'https': 'wsa04proxy.int.capella.lan:80'\n",
    "                                  })"
   ]
  },
  {
   "cell_type": "code",
   "execution_count": 4,
   "metadata": {},
   "outputs": [
    {
     "data": {
      "text/plain": [
       "<oracle_eloqua.api.EloquaRequest at 0x545fac8>"
      ]
     },
     "execution_count": 4,
     "metadata": {},
     "output_type": "execute_result"
    }
   ],
   "source": [
    "request = oracle_eloqua.EloquaRequest(\n",
    "    method='GET',\n",
    "    endpoint='/assets/campaigns',\n",
    ")\n",
    "request.add_params(params={'search':'currentStatus=7'})"
   ]
  },
  {
   "cell_type": "code",
   "execution_count": 5,
   "metadata": {
    "scrolled": true
   },
   "outputs": [
    {
     "name": "stdout",
     "output_type": "stream",
     "text": [
      "1\n"
     ]
    },
    {
     "name": "stderr",
     "output_type": "stream",
     "text": [
      "H:\\work\\oracle_eloqua\\oracle_eloqua\\api.py:189: UserWarning: 6801 records were not returned due to page constraint. \n",
      "            To suppress this message, do not set a count above 1k when \n",
      "            a page argument is passed.\n",
      "  a page argument is passed.'''.format(queue=queue))\n"
     ]
    },
    {
     "data": {
      "text/plain": [
       "<oracle_eloqua.api.Cursor at 0x545f3c8>"
      ]
     },
     "execution_count": 5,
     "metadata": {},
     "output_type": "execute_result"
    }
   ],
   "source": [
    "request.execute()"
   ]
  },
  {
   "cell_type": "code",
   "execution_count": 14,
   "metadata": {},
   "outputs": [
    {
     "data": {
      "text/plain": [
       "{'elements': [{'type': 'Campaign',\n",
       "   'currentStatus': 'Completed',\n",
       "   'id': '6',\n",
       "   'createdAt': '1390589578',\n",
       "   'createdBy': '11',\n",
       "   'depth': 'minimal',\n",
       "   'folderId': '457',\n",
       "   'name': '2014-Marketing-FAFSA',\n",
       "   'permissions': ['Retrieve', 'SetSecurity', 'Delete', 'Update', 'Activate'],\n",
       "   'updatedAt': '1390945409',\n",
       "   'updatedBy': '11',\n",
       "   'campaignCategory': 'contact',\n",
       "   'endAt': '1398721401',\n",
       "   'isEmailMarketingCampaign': 'false',\n",
       "   'startAt': '1390885260'}],\n",
       " 'page': 1,\n",
       " 'pageSize': 1,\n",
       " 'total': 7801}"
      ]
     },
     "execution_count": 14,
     "metadata": {},
     "output_type": "execute_result"
    }
   ],
   "source": [
    "api.call(\n",
    "    method='GET',\n",
    "    path=('assets', 'campaigns'),\n",
    "    api_type='rest',\n",
    "    params={'search':'currentStatus=7', 'page': 1, 'count': 1}\n",
    ")"
   ]
  },
  {
   "cell_type": "code",
   "execution_count": 18,
   "metadata": {},
   "outputs": [
    {
     "name": "stdout",
     "output_type": "stream",
     "text": [
      "Page: 1 - Remaining: 7801\n",
      "Page: 2 - Remaining: 6801\n",
      "Page: 3 - Remaining: 5801\n",
      "Page: 4 - Remaining: 4801\n",
      "Page: 5 - Remaining: 3801\n",
      "Page: 6 - Remaining: 2801\n",
      "Page: 7 - Remaining: 1801\n",
      "Page: 8 - Remaining: 801\n"
     ]
    }
   ],
   "source": [
    "params = {'search':'currentStatus=7'}\n",
    "if 'page' in params.keys():\n",
    "    pages = [params['page']]\n",
    "else:\n",
    "    pages = range(1, int((totals - 1) / 1000) + 2)\n",
    "\n",
    "queue = totals\n",
    "\n",
    "response = {'elements': [], 'total': totals}\n",
    "\n",
    "for page in pages:\n",
    "    print('Page: {page} - Remaining: {count}'.format(page=page, count=queue))\n",
    "    params['page'] = page\n",
    "    params['count'] = 1000\n",
    "    resp = api.call(        \n",
    "        method='GET',\n",
    "        path=('assets', 'campaigns'),\n",
    "        api_type='rest',\n",
    "        params=params\n",
    "    )\n",
    "    response['elements'].extend(resp['elements'])\n",
    "    queue -= params['count']"
   ]
  },
  {
   "cell_type": "code",
   "execution_count": null,
   "metadata": {},
   "outputs": [],
   "source": [
    "print(resp)"
   ]
  }
 ],
 "metadata": {
  "kernelspec": {
   "display_name": "Python 3",
   "language": "python",
   "name": "python3"
  },
  "language_info": {
   "codemirror_mode": {
    "name": "ipython",
    "version": 3
   },
   "file_extension": ".py",
   "mimetype": "text/x-python",
   "name": "python",
   "nbconvert_exporter": "python",
   "pygments_lexer": "ipython3",
   "version": "3.7.2"
  }
 },
 "nbformat": 4,
 "nbformat_minor": 2
}
