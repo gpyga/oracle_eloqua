{
 "cells": [
  {
   "cell_type": "markdown",
   "metadata": {},
   "source": [
    "# Oracle Eloqua Testing"
   ]
  },
  {
   "cell_type": "markdown",
   "metadata": {},
   "source": [
    "### Setup"
   ]
  },
  {
   "cell_type": "code",
   "execution_count": 1,
   "metadata": {},
   "outputs": [
    {
     "data": {
      "application/javascript": [
       "IPython.notebook.set_autosave_interval(600000)"
      ]
     },
     "metadata": {},
     "output_type": "display_data"
    },
    {
     "name": "stdout",
     "output_type": "stream",
     "text": [
      "Autosaving every 600 seconds\n"
     ]
    }
   ],
   "source": [
    "%autosave 600\n",
    "\n",
    "import os\n",
    "import sys"
   ]
  },
  {
   "cell_type": "code",
   "execution_count": 2,
   "metadata": {},
   "outputs": [],
   "source": [
    "# stupid and lazy way to set up location; \n",
    "# doesn't matter since this file will go bye-bye\n",
    "proxies = {}\n",
    "if os.name == 'nt':\n",
    "    prefix = 'H:'\n",
    "    proxies['http'] = proxies['https'] = 'wsa04proxy.int.capella.lan:80'\n",
    "else:\n",
    "    prefix = '/Users/nickolasgryga'\n",
    "\n",
    "sys.path.append(prefix + '/work/oracle_eloqua')\n",
    "creds_loc = prefix + '/work/adhoc/credentials.json'"
   ]
  },
  {
   "cell_type": "markdown",
   "metadata": {},
   "source": [
    "### Test Import"
   ]
  },
  {
   "cell_type": "code",
   "execution_count": 3,
   "metadata": {},
   "outputs": [],
   "source": [
    "import oracle_eloqua"
   ]
  },
  {
   "cell_type": "markdown",
   "metadata": {},
   "source": [
    "### Test API Connection"
   ]
  },
  {
   "cell_type": "code",
   "execution_count": 4,
   "metadata": {},
   "outputs": [
    {
     "name": "stdout",
     "output_type": "stream",
     "text": [
      "<oracle_eloqua.api.EloquaApi object at 0x0000000004956358>\n"
     ]
    }
   ],
   "source": [
    "from oracle_eloqua import EloquaApi\n",
    "api = oracle_eloqua.EloquaApi.from_json(creds_loc, proxies=proxies)\n",
    "print(api)"
   ]
  },
  {
   "cell_type": "markdown",
   "metadata": {},
   "source": [
    "### Test Cursor"
   ]
  },
  {
   "cell_type": "code",
   "execution_count": 5,
   "metadata": {},
   "outputs": [],
   "source": [
    "from oracle_eloqua import Cursor\n",
    "request = Cursor(\n",
    "    path=('assets','campaigns'),\n",
    "    api_type='REST',\n",
    "    params={'search':'currentStatus=7'},\n",
    "    api=api\n",
    ")"
   ]
  },
  {
   "cell_type": "code",
   "execution_count": 6,
   "metadata": {},
   "outputs": [
    {
     "data": {
      "text/plain": [
       "{}"
      ]
     },
     "execution_count": 6,
     "metadata": {},
     "output_type": "execute_result"
    }
   ],
   "source": [
    "request"
   ]
  },
  {
   "cell_type": "code",
   "execution_count": 7,
   "metadata": {},
   "outputs": [],
   "source": [
    "response = request.execute()"
   ]
  },
  {
   "cell_type": "code",
   "execution_count": 8,
   "metadata": {},
   "outputs": [
    {
     "name": "stdout",
     "output_type": "stream",
     "text": [
      "7843\n",
      "7843\n"
     ]
    }
   ],
   "source": [
    "print(len(response['elements']))\n",
    "print(response['total'])"
   ]
  },
  {
   "cell_type": "markdown",
   "metadata": {},
   "source": [
    "### Test Requests"
   ]
  },
  {
   "cell_type": "code",
   "execution_count": 9,
   "metadata": {},
   "outputs": [],
   "source": [
    "from oracle_eloqua import EloquaRequest\n",
    "request = EloquaRequest(\n",
    "    method='GET',\n",
    "    endpoint='/assets/campaigns',\n",
    "    api_type='REST'\n",
    ")"
   ]
  },
  {
   "cell_type": "code",
   "execution_count": 10,
   "metadata": {},
   "outputs": [],
   "source": [
    "response = request.execute()"
   ]
  },
  {
   "cell_type": "code",
   "execution_count": 11,
   "metadata": {},
   "outputs": [
    {
     "name": "stdout",
     "output_type": "stream",
     "text": [
      "10779\n",
      "10779\n"
     ]
    }
   ],
   "source": [
    "print(len(response['elements']))\n",
    "print(response['total'])"
   ]
  },
  {
   "cell_type": "markdown",
   "metadata": {},
   "source": [
    "### Test Objects"
   ]
  },
  {
   "cell_type": "code",
   "execution_count": 12,
   "metadata": {},
   "outputs": [],
   "source": [
    "from oracle_eloqua import EloquaRequest\n",
    "request = EloquaRequest(\n",
    "    method='GET',\n",
    "    endpoint='/assets/campaign',\n",
    "    obj_id=23,\n",
    "    api_type='REST'\n",
    ")"
   ]
  },
  {
   "cell_type": "code",
   "execution_count": 13,
   "metadata": {},
   "outputs": [],
   "source": [
    "response = request.execute()"
   ]
  },
  {
   "cell_type": "code",
   "execution_count": 14,
   "metadata": {},
   "outputs": [],
   "source": [
    "from oracle_eloqua.objects import EloquaObject\n",
    "campaign = EloquaObject.create_object(data=response)"
   ]
  },
  {
   "cell_type": "code",
   "execution_count": 15,
   "metadata": {},
   "outputs": [
    {
     "data": {
      "text/plain": [
       "True"
      ]
     },
     "execution_count": 15,
     "metadata": {},
     "output_type": "execute_result"
    }
   ],
   "source": [
    "all(hasattr(campaign, attr) for attr in response.keys())"
   ]
  },
  {
   "cell_type": "markdown",
   "metadata": {},
   "source": [
    "### Test BULK API"
   ]
  },
  {
   "cell_type": "code",
   "execution_count": 16,
   "metadata": {},
   "outputs": [
    {
     "name": "stdout",
     "output_type": "stream",
     "text": [
      "{'name': 'test', 'fields': {'registration_date': '{{Contact.Field(C_Registration_Date1)}}', 'application_date': '{{Contact.Field(C_Application_Date1)}}', 'email_address': '{{Contact.Field(C_EmailAddress)}}'}, 'filter': \"'{{Contact.Field(C_Application_Date1)}}' >= '2017-12-30'\", 'dataRetentionDuration': 'PT12H', 'uri': '/contacts/exports/1080260', 'createdBy': 'Nick.Gryga', 'createdAt': '2019-02-01T19:58:02.4636652Z', 'updatedBy': 'Nick.Gryga', 'updatedAt': '2019-02-01T19:58:02.4636652Z'}\n"
     ]
    }
   ],
   "source": [
    "from oracle_eloqua import EloquaRequest\n",
    "request = EloquaRequest(\n",
    "    method='POST',\n",
    "    api_type='BULK',\n",
    "    endpoint='/contacts/exports'    \n",
    ")\n",
    "json = {\n",
    "    'name': 'test',\n",
    "    'fields': {\n",
    "        \"registration_date\": \"{{Contact.Field(C_Registration_Date1)}}\",\n",
    "        \"application_date\": \"{{Contact.Field(C_Application_Date1)}}\",\n",
    "        \"email_address\": \"{{Contact.Field(C_EmailAddress)}}\"\n",
    "    },\n",
    "    'filter': \"'{{Contact.Field(C_Application_Date1)}}' >= '2017-12-30'\"\n",
    "}\n",
    "request.add_params(json)\n",
    "response = request.execute()\n",
    "print(response)"
   ]
  },
  {
   "cell_type": "code",
   "execution_count": 17,
   "metadata": {},
   "outputs": [
    {
     "name": "stdout",
     "output_type": "stream",
     "text": [
      "{'syncedInstanceUri': '/contacts/exports/1080215', 'status': 'pending', 'createdAt': '2019-02-01T19:58:02.8697592Z', 'createdBy': 'Nick.Gryga', 'uri': '/syncs/2159669'}\n"
     ]
    }
   ],
   "source": [
    "request = EloquaRequest(\n",
    "    method='POST',\n",
    "    api_type='BULK',\n",
    "    endpoint='/syncs'    \n",
    ")\n",
    "\n",
    "request.add_params({'syncedInstanceUri': '/contacts/exports/1080215'})\n",
    "response = request.execute()\n",
    "print(response)"
   ]
  },
  {
   "cell_type": "code",
   "execution_count": 18,
   "metadata": {},
   "outputs": [
    {
     "name": "stdout",
     "output_type": "stream",
     "text": [
      "{'syncedInstanceUri': '/contacts/exports/1080215', 'syncStartedAt': '2019-02-01T19:42:33.9930000Z', 'syncEndedAt': '2019-02-01T19:42:34.6300000Z', 'status': 'success', 'createdAt': '2019-02-01T19:42:33.8730000Z', 'createdBy': 'Nick.Gryga', 'uri': '/syncs/2159592'}\n"
     ]
    }
   ],
   "source": [
    "from oracle_eloqua import EloquaRequest\n",
    "request = EloquaRequest(\n",
    "    method='GET',\n",
    "    api_type='BULK',\n",
    "    endpoint='/syncs',\n",
    "    obj_id = 2159592\n",
    ")\n",
    "response = request.execute()\n",
    "print(response)"
   ]
  },
  {
   "cell_type": "code",
   "execution_count": 5,
   "metadata": {},
   "outputs": [],
   "source": [
    "from oracle_eloqua import EloquaRequest\n",
    "request = EloquaRequest(\n",
    "    method='GET',\n",
    "    api_type='BULK',\n",
    "    endpoint='/syncs/2159592/data',\n",
    ")\n",
    "response = request.execute()"
   ]
  },
  {
   "cell_type": "code",
   "execution_count": 6,
   "metadata": {},
   "outputs": [
    {
     "data": {
      "text/plain": [
       "['items', 'totalResults', 'hasMore']"
      ]
     },
     "execution_count": 6,
     "metadata": {},
     "output_type": "execute_result"
    }
   ],
   "source": [
    "list(response)"
   ]
  },
  {
   "cell_type": "code",
   "execution_count": 7,
   "metadata": {},
   "outputs": [
    {
     "data": {
      "text/plain": [
       "50000"
      ]
     },
     "execution_count": 7,
     "metadata": {},
     "output_type": "execute_result"
    }
   ],
   "source": [
    "len(response['items'])"
   ]
  },
  {
   "cell_type": "code",
   "execution_count": null,
   "metadata": {},
   "outputs": [],
   "source": []
  }
 ],
 "metadata": {
  "kernelspec": {
   "display_name": "Python 3",
   "language": "python",
   "name": "python3"
  },
  "language_info": {
   "codemirror_mode": {
    "name": "ipython",
    "version": 3
   },
   "file_extension": ".py",
   "mimetype": "text/x-python",
   "name": "python",
   "nbconvert_exporter": "python",
   "pygments_lexer": "ipython3",
   "version": "3.7.2"
  }
 },
 "nbformat": 4,
 "nbformat_minor": 2
}
