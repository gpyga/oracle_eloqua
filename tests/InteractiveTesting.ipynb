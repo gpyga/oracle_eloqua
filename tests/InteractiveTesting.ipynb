{
 "cells": [
  {
   "cell_type": "markdown",
   "metadata": {},
   "source": [
    "# Oracle Eloqua Testing"
   ]
  },
  {
   "cell_type": "markdown",
   "metadata": {},
   "source": [
    "### Setup"
   ]
  },
  {
   "cell_type": "code",
   "execution_count": 1,
   "metadata": {},
   "outputs": [
    {
     "data": {
      "application/javascript": [
       "IPython.notebook.set_autosave_interval(600000)"
      ]
     },
     "metadata": {},
     "output_type": "display_data"
    },
    {
     "name": "stdout",
     "output_type": "stream",
     "text": [
      "Autosaving every 600 seconds\n"
     ]
    }
   ],
   "source": [
    "%autosave 600\n",
    "\n",
    "import os\n",
    "import sys"
   ]
  },
  {
   "cell_type": "code",
   "execution_count": 2,
   "metadata": {},
   "outputs": [],
   "source": [
    "# stupid and lazy way to set up location; \n",
    "# doesn't matter since this file will go bye-bye\n",
    "proxies = {}\n",
    "if os.name == 'nt':\n",
    "    prefix = 'H:'\n",
    "    proxies['http'] = proxies['https'] = 'wsa04proxy.int.capella.lan:80'\n",
    "else:\n",
    "    prefix = '/Users/nickolasgryga'\n",
    "\n",
    "sys.path.append(prefix + '/work/oracle_eloqua')\n",
    "creds_loc = prefix + '/work/adhoc/credentials.json'"
   ]
  },
  {
   "cell_type": "markdown",
   "metadata": {},
   "source": [
    "### Test Import"
   ]
  },
  {
   "cell_type": "code",
   "execution_count": 3,
   "metadata": {},
   "outputs": [],
   "source": [
    "import oracle_eloqua"
   ]
  },
  {
   "cell_type": "markdown",
   "metadata": {},
   "source": [
    "### Test API Connection"
   ]
  },
  {
   "cell_type": "code",
   "execution_count": 4,
   "metadata": {},
   "outputs": [
    {
     "name": "stdout",
     "output_type": "stream",
     "text": [
      "<oracle_eloqua.api.EloquaApi object at 0x0000000004A0AC88>\n"
     ]
    }
   ],
   "source": [
    "from oracle_eloqua import EloquaApi\n",
    "api = oracle_eloqua.EloquaApi.from_json(creds_loc, proxies=proxies)\n",
    "print(api)"
   ]
  },
  {
   "cell_type": "markdown",
   "metadata": {},
   "source": [
    "### Test Cursor"
   ]
  },
  {
   "cell_type": "code",
   "execution_count": 5,
   "metadata": {},
   "outputs": [],
   "source": [
    "from oracle_eloqua import Cursor\n",
    "request = Cursor(\n",
    "    path=('assets','campaigns'),\n",
    "    api_type='rest',\n",
    "    params={'search':'currentStatus=2'},\n",
    "    api=api\n",
    ")"
   ]
  },
  {
   "cell_type": "code",
   "execution_count": 6,
   "metadata": {},
   "outputs": [
    {
     "ename": "KeyError",
     "evalue": "'elements'",
     "output_type": "error",
     "traceback": [
      "\u001b[1;31m---------------------------------------------------------------------------\u001b[0m",
      "\u001b[1;31mKeyError\u001b[0m                                  Traceback (most recent call last)",
      "\u001b[1;32m<ipython-input-6-78d3fc4bd9bb>\u001b[0m in \u001b[0;36m<module>\u001b[1;34m\u001b[0m\n\u001b[1;32m----> 1\u001b[1;33m \u001b[0mrequest\u001b[0m\u001b[1;33m.\u001b[0m\u001b[0mfetchall\u001b[0m\u001b[1;33m(\u001b[0m\u001b[1;33m)\u001b[0m\u001b[1;33m\u001b[0m\u001b[1;33m\u001b[0m\u001b[0m\n\u001b[0m",
      "\u001b[1;32mH:/work/oracle_eloqua\\oracle_eloqua\\api.py\u001b[0m in \u001b[0;36mfetchall\u001b[1;34m(self)\u001b[0m\n\u001b[0;32m    197\u001b[0m             \u001b[0mself\u001b[0m\u001b[1;33m.\u001b[0m\u001b[0m_response\u001b[0m \u001b[1;33m=\u001b[0m \u001b[0mself\u001b[0m\u001b[1;33m.\u001b[0m\u001b[0m_data\u001b[0m\u001b[1;33m\u001b[0m\u001b[1;33m\u001b[0m\u001b[0m\n\u001b[0;32m    198\u001b[0m             \u001b[1;32mif\u001b[0m \u001b[0mself\u001b[0m\u001b[1;33m.\u001b[0m\u001b[0m_queue\u001b[0m\u001b[1;33m:\u001b[0m\u001b[1;33m\u001b[0m\u001b[1;33m\u001b[0m\u001b[0m\n\u001b[1;32m--> 199\u001b[1;33m                 \u001b[0mself\u001b[0m\u001b[1;33m.\u001b[0m\u001b[0m_response\u001b[0m\u001b[1;33m[\u001b[0m\u001b[1;34m'elements'\u001b[0m\u001b[1;33m]\u001b[0m\u001b[1;33m.\u001b[0m\u001b[0mappend\u001b[0m\u001b[1;33m(\u001b[0m\u001b[0mrow\u001b[0m\u001b[1;33m)\u001b[0m\u001b[1;33m\u001b[0m\u001b[1;33m\u001b[0m\u001b[0m\n\u001b[0m\u001b[0;32m    200\u001b[0m \u001b[1;33m\u001b[0m\u001b[0m\n\u001b[0;32m    201\u001b[0m         \u001b[1;32mreturn\u001b[0m \u001b[0mself\u001b[0m\u001b[1;33m.\u001b[0m\u001b[0m_response\u001b[0m\u001b[1;33m\u001b[0m\u001b[1;33m\u001b[0m\u001b[0m\n",
      "\u001b[1;31mKeyError\u001b[0m: 'elements'"
     ]
    }
   ],
   "source": [
    "request.fetchall()"
   ]
  },
  {
   "cell_type": "code",
   "execution_count": null,
   "metadata": {},
   "outputs": [],
   "source": [
    "request._page"
   ]
  },
  {
   "cell_type": "code",
   "execution_count": null,
   "metadata": {},
   "outputs": [],
   "source": [
    "len(request['elements'])"
   ]
  },
  {
   "cell_type": "code",
   "execution_count": null,
   "metadata": {},
   "outputs": [],
   "source": [
    "request.fetchall()"
   ]
  },
  {
   "cell_type": "code",
   "execution_count": null,
   "metadata": {},
   "outputs": [],
   "source": [
    "request"
   ]
  },
  {
   "cell_type": "markdown",
   "metadata": {},
   "source": [
    "### Test Requests"
   ]
  },
  {
   "cell_type": "code",
   "execution_count": null,
   "metadata": {},
   "outputs": [],
   "source": [
    "from oracle_eloqua import EloquaRequest\n",
    "request = EloquaRequest(\n",
    "    method='GET',\n",
    "    endpoint='/assets/campaigns',\n",
    "    api_type='rest',\n",
    "    #api=api\n",
    ")"
   ]
  },
  {
   "cell_type": "code",
   "execution_count": null,
   "metadata": {},
   "outputs": [],
   "source": [
    "response = request.execute()"
   ]
  },
  {
   "cell_type": "code",
   "execution_count": null,
   "metadata": {},
   "outputs": [],
   "source": [
    "len(response['elements'])"
   ]
  },
  {
   "cell_type": "markdown",
   "metadata": {},
   "source": [
    "### Test Objects"
   ]
  },
  {
   "cell_type": "code",
   "execution_count": null,
   "metadata": {},
   "outputs": [],
   "source": [
    "from oracle_eloqua import EloquaRequest\n",
    "request = EloquaRequest(\n",
    "    method='GET',\n",
    "    endpoint='/assets/campaign',\n",
    "    obj_id=23,\n",
    "    api_type='rest'\n",
    ")"
   ]
  },
  {
   "cell_type": "code",
   "execution_count": null,
   "metadata": {},
   "outputs": [],
   "source": [
    "response = request.execute()"
   ]
  },
  {
   "cell_type": "code",
   "execution_count": null,
   "metadata": {
    "scrolled": false
   },
   "outputs": [],
   "source": [
    "response"
   ]
  },
  {
   "cell_type": "code",
   "execution_count": null,
   "metadata": {},
   "outputs": [],
   "source": [
    "from oracle_eloqua import Cursor\n",
    "request = Cursor(\n",
    "    path=('assets','campaign','23'),\n",
    "    api_type='rest',\n",
    "    params={'depth':'minimal'},\n",
    "    api=api\n",
    ")\n",
    "response = request.execute()"
   ]
  },
  {
   "cell_type": "code",
   "execution_count": null,
   "metadata": {},
   "outputs": [],
   "source": [
    "request"
   ]
  },
  {
   "cell_type": "code",
   "execution_count": null,
   "metadata": {},
   "outputs": [],
   "source": [
    "request._page"
   ]
  },
  {
   "cell_type": "code",
   "execution_count": null,
   "metadata": {},
   "outputs": [],
   "source": [
    "request.execute()"
   ]
  },
  {
   "cell_type": "code",
   "execution_count": null,
   "metadata": {},
   "outputs": [],
   "source": [
    "response = {\n",
    "  \"type\": \"Campaign\",\n",
    "  \"currentStatus\": \"Draft\",\n",
    "  \"id\": \"12\",\n",
    "  \"createdAt\": \"1461773489\",\n",
    "  \"createdBy\": \"11\",\n",
    "  \"depth\": \"complete\",\n",
    "  \"description\": \"Super simple nurture campaign.\",\n",
    "  \"folderId\": \"308\",\n",
    "  \"name\": \"Super Simple Nurture Campaign\",\n",
    "  \"permissions\": [\n",
    "    \"Retrieve\",\n",
    "    \"SetSecurity\",\n",
    "    \"Delete\",\n",
    "    \"Update\",\n",
    "    \"Activate\"\n",
    "  ],\n",
    "  \"sourceTemplateId\": \"8589934608\",\n",
    "  \"updatedAt\": \"1461775397\",\n",
    "  \"updatedBy\": \"11\",\n",
    "  \"elements\": [\n",
    "    {\n",
    "      \"type\": \"CampaignSegment\",\n",
    "      \"id\": \"257\",\n",
    "      \"name\": \"Segment members\",\n",
    "      \"memberCount\": \"0\",\n",
    "      \"outputTerminals\": [\n",
    "        {\n",
    "          \"type\": \"CampaignOutputTerminal\",\n",
    "          \"id\": \"252\",\n",
    "          \"connectedId\": \"258\",\n",
    "          \"connectedType\": \"CampaignWaitAction\",\n",
    "          \"terminalType\": \"out\"\n",
    "        }\n",
    "      ],\n",
    "      \"position\": {\n",
    "        \"type\": \"Position\",\n",
    "        \"x\": \"365\",\n",
    "        \"y\": \"39\"\n",
    "      },\n",
    "      \"isFinished\": \"false\",\n",
    "      \"isRecurring\": \"false\"\n",
    "    },\n",
    "    {\n",
    "      \"type\": \"CampaignWaitAction\",\n",
    "      \"id\": \"258\",\n",
    "      \"name\": \"Wait\",\n",
    "      \"memberCount\": \"0\",\n",
    "      \"outputTerminals\": [\n",
    "        {\n",
    "          \"type\": \"CampaignOutputTerminal\",\n",
    "          \"id\": \"253\",\n",
    "          \"connectedId\": \"259\",\n",
    "          \"connectedType\": \"CampaignEmail\",\n",
    "          \"terminalType\": \"out\"\n",
    "        }\n",
    "      ],\n",
    "      \"position\": {\n",
    "        \"type\": \"Position\",\n",
    "        \"x\": \"365\",\n",
    "        \"y\": \"131\"\n",
    "      },\n",
    "      \"waitFor\": \"3600\"\n",
    "    },\n",
    "    {\n",
    "      \"type\": \"CampaignEmail\",\n",
    "      \"id\": \"259\",\n",
    "      \"name\": \"Email 1\",\n",
    "      \"memberCount\": \"0\",\n",
    "      \"outputTerminals\": [\n",
    "        {\n",
    "          \"type\": \"CampaignOutputTerminal\",\n",
    "          \"id\": \"274\",\n",
    "          \"connectedId\": \"263\",\n",
    "          \"connectedType\": \"CampaignWaitAction\",\n",
    "          \"terminalType\": \"out\"\n",
    "        }\n",
    "      ],\n",
    "      \"position\": {\n",
    "        \"type\": \"Position\",\n",
    "        \"x\": \"365\",\n",
    "        \"y\": \"222\"\n",
    "      },\n",
    "      \"includeListUnsubscribeHeader\": \"false\",\n",
    "      \"isAllowingResend\": \"false\",\n",
    "      \"isAllowingSentToMasterExclude\": \"false\",\n",
    "      \"isAllowingSentToUnsubscribe\": \"false\",\n",
    "      \"sendTimePeriod\": \"sendAllEmailAtOnce\"\n",
    "    },\n",
    "    {\n",
    "      \"type\": \"CampaignWaitAction\",\n",
    "      \"id\": \"263\",\n",
    "      \"name\": \"Wait\",\n",
    "      \"memberCount\": \"0\",\n",
    "      \"outputTerminals\": [\n",
    "        {\n",
    "          \"type\": \"CampaignOutputTerminal\",\n",
    "          \"id\": \"270\",\n",
    "          \"connectedId\": \"279\",\n",
    "          \"connectedType\": \"CampaignEmail\",\n",
    "          \"terminalType\": \"out\"\n",
    "        }\n",
    "      ],\n",
    "      \"position\": {\n",
    "        \"type\": \"Position\",\n",
    "        \"x\": \"365\",\n",
    "        \"y\": \"316\"\n",
    "      },\n",
    "      \"waitFor\": \"259200\"\n",
    "    },\n",
    "    {\n",
    "      \"type\": \"CampaignEmail\",\n",
    "      \"id\": \"279\",\n",
    "      \"name\": \"Email 2\",\n",
    "      \"memberCount\": \"0\",\n",
    "      \"outputTerminals\": [\n",
    "        {\n",
    "          \"type\": \"CampaignOutputTerminal\",\n",
    "          \"id\": \"275\",\n",
    "          \"connectedId\": \"281\",\n",
    "          \"connectedType\": \"CampaignMoveToContactListAction\",\n",
    "          \"terminalType\": \"out\"\n",
    "        }\n",
    "      ],\n",
    "      \"position\": {\n",
    "        \"type\": \"Position\",\n",
    "        \"x\": \"365\",\n",
    "        \"y\": \"409\"\n",
    "      },\n",
    "      \"includeListUnsubscribeHeader\": \"true\",\n",
    "      \"isAllowingResend\": \"false\",\n",
    "      \"isAllowingSentToMasterExclude\": \"false\",\n",
    "      \"isAllowingSentToUnsubscribe\": \"false\",\n",
    "      \"sendTimePeriod\": \"sendAllEmailAtOnce\"\n",
    "    },\n",
    "    {\n",
    "      \"type\": \"CampaignMoveToContactListAction\",\n",
    "      \"id\": \"281\",\n",
    "      \"name\": \"Move to Shared List\",\n",
    "      \"memberCount\": \"0\",\n",
    "      \"position\": {\n",
    "        \"type\": \"Position\",\n",
    "        \"x\": \"365\",\n",
    "        \"y\": \"501\"\n",
    "      }\n",
    "    }\n",
    "  ],\n",
    "  \"isReadOnly\": \"false\",\n",
    "  \"actualCost\": \"0.00\",\n",
    "  \"budgetedCost\": \"0.00\",\n",
    "  \"campaignCategory\": \"contact\",\n",
    "  \"campaignType\": \"\",\n",
    "  \"fieldValues\": [\n",
    "    {\n",
    "      \"type\": \"FieldValue\",\n",
    "      \"id\": \"4\",\n",
    "      \"value\": \"\"\n",
    "    },\n",
    "    {\n",
    "      \"type\": \"FieldValue\",\n",
    "      \"id\": \"5\",\n",
    "      \"value\": \"\"\n",
    "    },\n",
    "    {\n",
    "      \"type\": \"FieldValue\",\n",
    "      \"id\": \"6\",\n",
    "      \"value\": \"\"\n",
    "    },\n",
    "    {\n",
    "      \"type\": \"FieldValue\",\n",
    "      \"id\": \"7\",\n",
    "      \"value\": \"\"\n",
    "    }\n",
    "  ],\n",
    "  \"isEmailMarketingCampaign\": \"false\",\n",
    "  \"isIncludedInROI\": \"true\",\n",
    "  \"isMemberAllowedReEntry\": \"false\",\n",
    "  \"isSyncedWithCRM\": \"true\",\n",
    "  \"product\": \"\",\n",
    "  \"region\": \"\"\n",
    "}"
   ]
  },
  {
   "cell_type": "code",
   "execution_count": null,
   "metadata": {},
   "outputs": [],
   "source": [
    "response['elements']"
   ]
  },
  {
   "cell_type": "code",
   "execution_count": null,
   "metadata": {},
   "outputs": [],
   "source": []
  }
 ],
 "metadata": {
  "kernelspec": {
   "display_name": "Python 3",
   "language": "python",
   "name": "python3"
  },
  "language_info": {
   "codemirror_mode": {
    "name": "ipython",
    "version": 3
   },
   "file_extension": ".py",
   "mimetype": "text/x-python",
   "name": "python",
   "nbconvert_exporter": "python",
   "pygments_lexer": "ipython3",
   "version": "3.7.2"
  }
 },
 "nbformat": 4,
 "nbformat_minor": 2
}
